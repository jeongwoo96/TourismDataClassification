{
 "cells": [
  {
   "cell_type": "code",
   "execution_count": null,
   "metadata": {},
   "outputs": [],
   "source": [
    "import re\n",
    "import pandas as pd\n",
    "from sklearn.feature_extraction.text import TfidfVectorizer\n",
    "from sklearn.linear_model import LogisticRegression\n",
    "import numpy as np\n",
    "from sklearn.preprocessing import LabelEncoder\n",
    "\n",
    "\n",
    "\n",
    "import pickle\n",
    "\n",
    "import pandas as pd\n",
    "import numpy as np\n",
    "\n",
    "\n",
    "from sklearn.base import TransformerMixin\n",
    "\n",
    "from sklearn.ensemble import RandomForestClassifier, AdaBoostClassifier, GradientBoostingClassifier, ExtraTreesClassifier, VotingClassifier, VotingClassifier\n",
    "from sklearn.discriminant_analysis import LinearDiscriminantAnalysis\n",
    "from sklearn.linear_model import LogisticRegression\n",
    "from sklearn.neighbors import KNeighborsClassifier\n",
    "from sklearn.tree import DecisionTreeClassifier\n",
    "from sklearn.neural_network import MLPClassifier\n",
    "from sklearn.svm import SVC\n",
    "\n",
    "from sklearn.model_selection import train_test_split\n",
    "from sklearn.model_selection import GridSearchCV, cross_val_score, StratifiedKFold, learning_curve\n",
    "from sklearn.model_selection import cross_val_predict\n",
    "from sklearn import model_selection\n",
    "\n",
    "\n",
    "from sklearn.ensemble import RandomForestClassifier\n",
    "\n",
    "from konlpy.tag import MeCab\n",
    "mecab = Mecab()"
   ]
  },
  {
   "cell_type": "code",
   "execution_count": null,
   "metadata": {},
   "outputs": [],
   "source": [
    "train = pd.read_csv('train.csv')\n",
    "train_text = train['overview'].to_list()\n",
    "test = pd.read_csv('test.csv')"
   ]
  },
  {
   "cell_type": "code",
   "execution_count": null,
   "metadata": {},
   "outputs": [],
   "source": [
    "def preprocessing(words):\n",
    "\n",
    "\n",
    "  f = open('nsmc_stopwords.txt')\n",
    "  stop_word = f.read().split()\n",
    "\n",
    "  review_text = re.sub(\"[^가-힣\\\\s]\", \"\", words)\n",
    "  word_review = mecab.morphs(words)\n",
    "  word_review = [token for token in word_review if not token in stop_word and len(token) > 1]\n",
    "\n",
    "  return word_review"
   ]
  },
  {
   "cell_type": "code",
   "execution_count": null,
   "metadata": {},
   "outputs": [],
   "source": [
    "#okt.nouns를 tokenizer로 이용\n",
    "tfidf = TfidfVectorizer(tokenizer=preprocessing,max_features=10000, min_df=5, max_df=0.5) \n",
    "\n",
    "X_train_tfidf = tfidf.fit_transform(train['overview'])\n",
    "X_test_tfidf = tfidf.transform(test['overview'])"
   ]
  },
  {
   "cell_type": "code",
   "execution_count": null,
   "metadata": {},
   "outputs": [],
   "source": [
    "encoder = LabelEncoder()\n",
    "train_y = train['cat3']\n",
    "train_y = encoder.fit_transform(train_y)"
   ]
  },
  {
   "cell_type": "code",
   "execution_count": null,
   "metadata": {},
   "outputs": [],
   "source": [
    "kfold = StratifiedKFold(n_splits=10)"
   ]
  },
  {
   "cell_type": "code",
   "execution_count": null,
   "metadata": {},
   "outputs": [],
   "source": [
    "# Random Forest 객체 생성\n",
    "RFC = RandomForestClassifier(random_state=7)\n",
    "\n",
    "\n",
    "# param_grid 설정\n",
    "rf_param_grid = {\"max_depth\": [None],\n",
    "              \"min_samples_split\": [2, 3, 10],\n",
    "              \"min_samples_leaf\": [1, 3, 10],\n",
    "              \"bootstrap\": [False],\n",
    "              \"n_estimators\" :[100,300],\n",
    "              \"criterion\": [\"gini\"]}\n",
    "\n",
    "# Grid Search 객체 생성\n",
    "gsRFC = GridSearchCV(RFC,param_grid = rf_param_grid, cv=kfold, scoring=\"accuracy\", n_jobs= 4, verbose = 1)\n",
    "\n",
    "# Grid Search 실행\n",
    "gsRFC.fit(X_train_tfidf,train_y)"
   ]
  },
  {
   "cell_type": "code",
   "execution_count": null,
   "metadata": {},
   "outputs": [],
   "source": [
    "# 최적의 파라미터 조합 출력\n",
    "RFC_best = gsRFC.best_estimator_\n",
    "print(RFC_best)\n",
    "\n",
    "# 최고 점수(accuracy) 출력\n",
    "print(gsRFC.best_score_)"
   ]
  },
  {
   "cell_type": "code",
   "execution_count": null,
   "metadata": {},
   "outputs": [],
   "source": [
    "# AdaBoost 객체 생성\n",
    "ADA = AdaBoostClassifier(random_state=7)\n",
    "\n",
    "# param_grid 설정\n",
    "ada_param_grid = {\"n_estimators\" :[1,20,30],\n",
    "                  \"algorithm\" : [\"SAMME\",\"SAMME.R\"],                  \n",
    "              \"learning_rate\":  [0.001, 0.01, 0.1, 0.2, 0.3,1.5]}\n",
    "\n",
    "# Grid Search 객체 생성\n",
    "gsADA = GridSearchCV(ADA, param_grid = ada_param_grid, cv=kfold, scoring=\"accuracy\", verbose = 1)\n",
    "\n",
    "# Grid Search 실행\n",
    "gsADA.fit(X_train_tfidf, train_y)"
   ]
  },
  {
   "cell_type": "code",
   "execution_count": null,
   "metadata": {},
   "outputs": [],
   "source": [
    "# 최적의 파라미터 조합 출력\n",
    "ADA_best = gsADA.best_estimator_\n",
    "print(ADA_best)\n",
    "\n",
    "# 최고 점수(accuracy) 출력\n",
    "print(gsADA.best_score_)"
   ]
  },
  {
   "cell_type": "code",
   "execution_count": null,
   "metadata": {},
   "outputs": [],
   "source": [
    "#ExtraTrees 객체 생성\n",
    "Ext = ExtraTreesClassifier(random_state=7)\n",
    "\n",
    "\n",
    "# param_grid 설정\n",
    "ex_param_grid = {\"max_depth\": [None],\n",
    "              \"min_samples_split\": [2, 3, 10],\n",
    "              \"min_samples_leaf\": [1, 3, 10],\n",
    "              \"bootstrap\": [False],\n",
    "              \"n_estimators\" :[100,300],\n",
    "              \"criterion\": [\"gini\"]}\n",
    "\n",
    "# Grad Search 객체 생성\n",
    "gsExt = GridSearchCV(Ext,param_grid = ex_param_grid, cv=kfold, scoring=\"accuracy\", n_jobs= 4, verbose = 1)\n",
    "\n",
    "# Grid Search 실행\n",
    "gsExt.fit(X_train_tfidf,train_y)"
   ]
  },
  {
   "cell_type": "code",
   "execution_count": null,
   "metadata": {},
   "outputs": [],
   "source": [
    "# 최적의 파라미터 조합 출력\n",
    "Ext_best = gsExt.best_estimator_\n",
    "print(Ext_best)\n",
    "\n",
    "# 최고 점수(accuracy) 출력\n",
    "print(gsExt.best_score_)"
   ]
  },
  {
   "cell_type": "code",
   "execution_count": null,
   "metadata": {},
   "outputs": [],
   "source": [
    "#Support Vector 객체 생성\n",
    "SVM = SVC(random_state=7, probability=True)\n",
    "\n",
    "# param_grid 설정\n",
    "svc_param_grid = {'kernel': ['rbf'], \n",
    "                  'gamma': [ 0.001, 0.01, 0.1, 1],\n",
    "                  'C': [1, 10, 50, 100,200,300, 1000]}\n",
    "\n",
    "# Gradient boost 객체 생성\n",
    "gsSVM = GridSearchCV(SVM,param_grid = svc_param_grid, cv=kfold, scoring=\"accuracy\", n_jobs= 4, verbose = 1)\n",
    "\n",
    "# Grid Search 실행\n",
    "gsSVM.fit(X_train_tfidf,train_y)"
   ]
  },
  {
   "cell_type": "code",
   "execution_count": null,
   "metadata": {},
   "outputs": [],
   "source": [
    "# 최적의 파라미터 조합 출력\n",
    "SVM_best = gsSVM.best_estimator_\n",
    "print(SVM_best)\n",
    "\n",
    "# 최고 점수(accuracy) 출력\n",
    "print(gsSVM.best_score_)"
   ]
  },
  {
   "cell_type": "code",
   "execution_count": null,
   "metadata": {},
   "outputs": [],
   "source": [
    "#튜닝한 파라미터로 하드보팅\n",
    "grid_soft = VotingClassifier(estimators = [('Random Forest', RFC_best),\n",
    "                                           ('ExtraTrees', Ext_best),\n",
    "                                           ('SVC', SVM_best),\n",
    "                                           ('AdaBoost', ADA_best)], voting = 'soft')\n",
    "\n",
    "grid_soft_cv = model_selection.cross_validate(grid_soft, X_train_tfidf, train_y, cv=10)\n",
    "\n",
    "print(\"Soft voting on test set score mean: {:.2f}\". format(grid_soft_cv['test_score'].mean() * 100))"
   ]
  },
  {
   "cell_type": "code",
   "execution_count": null,
   "metadata": {},
   "outputs": [],
   "source": [
    "#튜닝한 파라미터로 하드보팅한 후 점수를 출력해보자.\n",
    "grid_hard = VotingClassifier(estimators = [('Random Forest', RFC_best),\n",
    "                                           ('ExtraTrees', Ext_best),\n",
    "                                           ('SVC', SVM_best),\n",
    "                                           ('AdaBoost', ADA_best)], voting = 'hard')\n",
    "\n",
    "grid_hard_cv = model_selection.cross_validate(grid_hard, X_train_tfidf, train_y, cv=10)\n",
    "\n",
    "print(\"Hard voting on test set score mean: {:.2f}\". format(grid_hard_cv['test_score'].mean() * 100))"
   ]
  },
  {
   "cell_type": "code",
   "execution_count": null,
   "metadata": {},
   "outputs": [],
   "source": [
    "cat3 = grid_soft.predict(X_test_tfidf)\n",
    "cat3 = encoder.inverse_transform(cat3)"
   ]
  },
  {
   "cell_type": "code",
   "execution_count": null,
   "metadata": {},
   "outputs": [],
   "source": [
    "test['cat3'] = cat3"
   ]
  },
  {
   "cell_type": "code",
   "execution_count": null,
   "metadata": {},
   "outputs": [],
   "source": [
    "submission = test[['id','cat3']]\n",
    "submission.to_csv('submission_ML.csv', index=False, encoding='utf-8')"
   ]
  }
 ],
 "metadata": {
  "kernelspec": {
   "display_name": "Python 3.9.0 ('test')",
   "language": "python",
   "name": "python3"
  },
  "language_info": {
   "name": "python",
   "version": "3.9.0"
  },
  "orig_nbformat": 4,
  "vscode": {
   "interpreter": {
    "hash": "5102cbe6eef775fa675588fc485acc2fa38583d413d40ff78d2cfd2f494b2959"
   }
  }
 },
 "nbformat": 4,
 "nbformat_minor": 2
}
